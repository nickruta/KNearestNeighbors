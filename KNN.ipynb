{
 "cells": [
  {
   "cell_type": "markdown",
   "metadata": {},
   "source": [
    "# k Nearest Neighbors Example and Extensions"
   ]
  },
  {
   "cell_type": "code",
   "execution_count": 189,
   "metadata": {
    "collapsed": false
   },
   "outputs": [],
   "source": [
    "%matplotlib inline \n",
    "\n",
    "from matplotlib.colors import ListedColormap\n",
    "from sklearn import neighbors, datasets\n",
    "from scipy.spatial import distance\n",
    "from operator import itemgetter\n",
    "from collections import defaultdict\n",
    "\n",
    "import numpy as np\n",
    "import matplotlib.pyplot as plt\n"
   ]
  },
  {
   "cell_type": "code",
   "execution_count": 122,
   "metadata": {
    "collapsed": false
   },
   "outputs": [],
   "source": [
    "# Ronald Fisher's Iris Data Set \n",
    "iris = load_iris()\n",
    "iris_X = iris.data\n",
    "iris_Y = iris.target"
   ]
  },
  {
   "cell_type": "code",
   "execution_count": 248,
   "metadata": {
    "collapsed": false
   },
   "outputs": [],
   "source": [
    "# We split the iris dataset into training data and test data.\n",
    "indices = np.random.permutation(len(iris_X))\n",
    "iris_data_train = iris_X[indices[:-10]]\n",
    "iris_target_train = iris_Y[indices[:-10]]\n",
    "iris_data_test  = iris_X[indices[-10:]]\n",
    "iris_target_test  = iris_Y[indices[-10:]]"
   ]
  },
  {
   "cell_type": "markdown",
   "metadata": {},
   "source": [
    "## SKLearn's Built in k-NN Classifier"
   ]
  },
  {
   "cell_type": "code",
   "execution_count": 249,
   "metadata": {
    "collapsed": false
   },
   "outputs": [
    {
     "name": "stdout",
     "output_type": "stream",
     "text": [
      "[2 0 1 0 1 1 2 1 0 2]\n",
      "[2 0 1 0 1 1 2 1 0 1]\n"
     ]
    }
   ],
   "source": [
    "# Basic configuration of the sklearn k-NN classifier.\n",
    "knn = KNeighborsClassifier(n_neighbors=5, weights='uniform', algorithm='brute', p=2, metric='minkowski')\n",
    "knn.fit(iris_data_train, iris_target_train)\n",
    "\n",
    "print(knn.predict(iris_data_test))\n",
    "print(iris_target_test)"
   ]
  },
  {
   "cell_type": "markdown",
   "metadata": {
    "collapsed": false
   },
   "source": [
    "# Basic Implementation"
   ]
  },
  {
   "cell_type": "code",
   "execution_count": 252,
   "metadata": {
    "collapsed": false
   },
   "outputs": [],
   "source": [
    "class knearestbasic():\n",
    "    \"\"\"\n",
    "    Basic implementation of the k-Nearest Neighbor classification algorithm\n",
    "    as described in https://en.wikipedia.org/wiki/K-nearest_neighbors_algorithm\n",
    "    \"\"\"\n",
    "    \n",
    "    def __init__(self, training_data, training_targets):\n",
    "        \"\"\"\n",
    "        Initializes the classifier with the given training data and\n",
    "        classes.\n",
    "        \"\"\"\n",
    "        self.training_data = training_data\n",
    "        self.training_targets = training_targets\n",
    "        \n",
    "        self._classes = set(training_targets)\n",
    "        self._num_classes = len(self._classes)\n",
    "        \n",
    "        self._features = len(training_data[0])\n",
    "        \n",
    "    def classify(self, cases, k=5):\n",
    "        \"\"\"\n",
    "        Classify a set of cases using training data.\n",
    "        \"\"\"\n",
    "        results = []\n",
    "        for case in cases:\n",
    "            neighbors = self.__get_neighbors(case, k)\n",
    "            vote = self.__count_votes(neighbors)\n",
    "            results.append(vote)\n",
    "        return results\n",
    "    \n",
    "    def __get_neighbors(self, case, k):\n",
    "        \"\"\"\n",
    "        Classifies a single case using training data.\n",
    "        \"\"\"\n",
    "        if (len(case) != self._features):\n",
    "            raise ValueError(\"invalid case\")\n",
    "            \n",
    "        distances = []\n",
    "        \n",
    "        for i in range(len(self.training_data)):\n",
    "            dist = distance.euclidean(case, self.training_data[i])\n",
    "            distances.append([self.training_targets[i], dist])\n",
    "\n",
    "        distances.sort(key=itemgetter(1))\n",
    "        return distances[0:k]\n",
    "    \n",
    "    def __count_votes(self, neighbors):\n",
    "        \"\"\"\n",
    "        Counts votes for classes and handles ties.\n",
    "        \"\"\"\n",
    "        votes = {}\n",
    "        for i in range(len(neighbors)):\n",
    "            cl = neighbors[i][0]\n",
    "            if cl in votes:\n",
    "                votes[cl] += 1\n",
    "            else:\n",
    "                votes[cl] = 1\n",
    "        sorted_votes = sorted(votes.items(), key=itemgetter(1), reverse=True)\n",
    "\n",
    "        # Break ties by counting fewer neighbors\n",
    "        if len(sorted_votes) > 1 and sorted_votes[0][1] == sorted_votes[1][1]:\n",
    "            return self.__count_votes(neighbors[:-1])\n",
    "        \n",
    "        return sorted_votes[0][0]\n",
    "        \n",
    "        \n",
    "        "
   ]
  },
  {
   "cell_type": "code",
   "execution_count": 253,
   "metadata": {
    "collapsed": false
   },
   "outputs": [
    {
     "name": "stdout",
     "output_type": "stream",
     "text": [
      "[2, 0, 1, 0, 1, 1, 2, 1, 0, 2]\n",
      "[2 0 1 0 1 1 2 1 0 1]\n"
     ]
    }
   ],
   "source": [
    "knn = knearestbasic(iris_data_train, iris_target_train)\n",
    "print(knn.classify(iris_data_test, 10))\n",
    "print(iris_target_test)"
   ]
  },
  {
   "cell_type": "code",
   "execution_count": null,
   "metadata": {
    "collapsed": false
   },
   "outputs": [],
   "source": []
  },
  {
   "cell_type": "code",
   "execution_count": null,
   "metadata": {
    "collapsed": true
   },
   "outputs": [],
   "source": []
  }
 ],
 "metadata": {
  "kernelspec": {
   "display_name": "Python 3",
   "language": "python",
   "name": "python3"
  },
  "language_info": {
   "codemirror_mode": {
    "name": "ipython",
    "version": 3
   },
   "file_extension": ".py",
   "mimetype": "text/x-python",
   "name": "python",
   "nbconvert_exporter": "python",
   "pygments_lexer": "ipython3",
   "version": "3.4.3"
  }
 },
 "nbformat": 4,
 "nbformat_minor": 0
}
